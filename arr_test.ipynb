{
 "cells": [
  {
   "cell_type": "code",
   "execution_count": 11,
   "metadata": {},
   "outputs": [],
   "source": [
    "from random import *\n",
    "import numpy as np\n",
    "test =[]\n",
    "for i in range(100):\n",
    "    temp=[randint(1,100), randint(1,100)]\n",
    "    test.append(np.array(temp))\n",
    "test = np.array(test)"
   ]
  },
  {
   "cell_type": "code",
   "execution_count": 21,
   "metadata": {},
   "outputs": [
    {
     "data": {
      "text/plain": [
       "array([ 63,  70,  24,  67,  74,  42,  65,  36,  41,  47,  59,  26,  37,\n",
       "        64,  89,  44,  93,  95,  22,  73,  87,  81,  40,  59,  13,  57,\n",
       "         1,  58,   1,  44,  69,  22,  98,  81,  44,  17,  83,  15,  99,\n",
       "        44,  27,  69,  27,  82, 100,  68,  89,  58,   6,  66,  99,  22,\n",
       "        22,   5,  24,  48,  38,  59,  74,  63,  97,  20,  87,  13,  19,\n",
       "        26,  85,  76,   9,  24,  96,  75,   5,  31,  49,  92,  37,  58,\n",
       "        90,   2,  49,  53,  99,  22,  55,  74,  82,  47,  28,  23,  25,\n",
       "        72,  50,  24, 100,  13,  64,   4,  38,  41])"
      ]
     },
     "execution_count": 21,
     "metadata": {},
     "output_type": "execute_result"
    }
   ],
   "source": [
    "test[:, 1]"
   ]
  },
  {
   "cell_type": "code",
   "execution_count": null,
   "metadata": {},
   "outputs": [],
   "source": []
  }
 ],
 "metadata": {
  "kernelspec": {
   "display_name": "Python 3",
   "language": "python",
   "name": "python3"
  },
  "language_info": {
   "codemirror_mode": {
    "name": "ipython",
    "version": 3
   },
   "file_extension": ".py",
   "mimetype": "text/x-python",
   "name": "python",
   "nbconvert_exporter": "python",
   "pygments_lexer": "ipython3",
   "version": "3.8.3"
  }
 },
 "nbformat": 4,
 "nbformat_minor": 4
}
